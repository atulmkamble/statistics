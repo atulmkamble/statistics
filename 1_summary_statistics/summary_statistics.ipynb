{
 "cells": [
  {
   "cell_type": "code",
   "execution_count": 1,
   "id": "50f01ca6-4f62-4ecc-b5a1-f455163034a2",
   "metadata": {},
   "outputs": [],
   "source": [
    "import numpy as np\n",
    "import scipy.stats as sp"
   ]
  },
  {
   "cell_type": "code",
   "execution_count": 2,
   "id": "4c1b279c-959c-411a-9fa2-fea7fe386d03",
   "metadata": {},
   "outputs": [
    {
     "data": {
      "text/plain": [
       "array([ 70000,  70000,  70000,  70000,  70000,  90000,  90000,  90000,\n",
       "        90000,  90000,  90000,  90000,  90000,  90000,  90000, 160000,\n",
       "       160000, 160000, 160000, 160000, 180000, 180000, 180000, 180000,\n",
       "       230000])"
      ]
     },
     "execution_count": 2,
     "metadata": {},
     "output_type": "execute_result"
    }
   ],
   "source": [
    "# Salaries of 25 people in a company\n",
    "salaries = np.array([70000,70000,70000,70000,70000,90000,90000,90000,90000,90000,90000,90000,\n",
    "                   90000,90000,90000,160000,160000,160000,160000,160000,180000,180000,180000,\n",
    "                   180000,230000])\n",
    "salaries"
   ]
  },
  {
   "cell_type": "code",
   "execution_count": 3,
   "id": "44d55cae-0878-440e-a5d5-ee834aac5502",
   "metadata": {},
   "outputs": [
    {
     "data": {
      "text/plain": [
       "120000.0"
      ]
     },
     "execution_count": 3,
     "metadata": {},
     "output_type": "execute_result"
    }
   ],
   "source": [
    "# Mean\n",
    "np.mean(salaries)"
   ]
  },
  {
   "cell_type": "code",
   "execution_count": 4,
   "id": "334b645f-4355-419c-ba14-98c4e4233dfc",
   "metadata": {},
   "outputs": [
    {
     "data": {
      "text/plain": [
       "90000.0"
      ]
     },
     "execution_count": 4,
     "metadata": {},
     "output_type": "execute_result"
    }
   ],
   "source": [
    "# Median\n",
    "np.median(salaries)"
   ]
  },
  {
   "cell_type": "code",
   "execution_count": 5,
   "id": "7b6583e7-de3f-4853-baa6-72953fbc2439",
   "metadata": {},
   "outputs": [
    {
     "data": {
      "text/plain": [
       "ModeResult(mode=90000, count=10)"
      ]
     },
     "execution_count": 5,
     "metadata": {},
     "output_type": "execute_result"
    }
   ],
   "source": [
    "# Mode\n",
    "sp.mode(salaries)"
   ]
  },
  {
   "cell_type": "code",
   "execution_count": 6,
   "id": "91592908-69d7-4260-9126-9ef82c2825ca",
   "metadata": {},
   "outputs": [
    {
     "data": {
      "text/plain": [
       "1340.0"
      ]
     },
     "execution_count": 6,
     "metadata": {},
     "output_type": "execute_result"
    }
   ],
   "source": [
    "# Percentile\n",
    "sat_results = [610,1060,1270,675,820,940,900,1340,1420,625,850,1210,910,1200,1120,870,600,1135,\n",
    "               1160,1050,960,500,1200,1000,800,1137,810,1230,680,1130,602,1015,1010,1170,1310,\n",
    "               670,1420,1005,1135,1600,1540]\n",
    "np.percentile(sat_results, 90)"
   ]
  },
  {
   "cell_type": "code",
   "execution_count": null,
   "id": "9d328de7-b613-46ff-a717-85db5f28e2cb",
   "metadata": {},
   "outputs": [],
   "source": []
  }
 ],
 "metadata": {
  "kernelspec": {
   "display_name": "Python 3 (ipykernel)",
   "language": "python",
   "name": "python3"
  },
  "language_info": {
   "codemirror_mode": {
    "name": "ipython",
    "version": 3
   },
   "file_extension": ".py",
   "mimetype": "text/x-python",
   "name": "python",
   "nbconvert_exporter": "python",
   "pygments_lexer": "ipython3",
   "version": "3.9.18"
  }
 },
 "nbformat": 4,
 "nbformat_minor": 5
}
